{
 "cells": [
  {
   "cell_type": "code",
   "execution_count": 51,
   "metadata": {},
   "outputs": [],
   "source": [
    "#Dependencies\n",
    "import pandas as pd\n",
    "import numpy as np"
   ]
  },
  {
   "cell_type": "code",
   "execution_count": 52,
   "metadata": {},
   "outputs": [],
   "source": [
    "#Name of the CSV file\n",
    "file = \"Resources/purchase_data.csv\""
   ]
  },
  {
   "cell_type": "code",
   "execution_count": 53,
   "metadata": {},
   "outputs": [
    {
     "data": {
      "text/html": [
       "<div>\n",
       "<style scoped>\n",
       "    .dataframe tbody tr th:only-of-type {\n",
       "        vertical-align: middle;\n",
       "    }\n",
       "\n",
       "    .dataframe tbody tr th {\n",
       "        vertical-align: top;\n",
       "    }\n",
       "\n",
       "    .dataframe thead th {\n",
       "        text-align: right;\n",
       "    }\n",
       "</style>\n",
       "<table border=\"1\" class=\"dataframe\">\n",
       "  <thead>\n",
       "    <tr style=\"text-align: right;\">\n",
       "      <th></th>\n",
       "      <th>Purchase ID</th>\n",
       "      <th>SN</th>\n",
       "      <th>Age</th>\n",
       "      <th>Gender</th>\n",
       "      <th>Item ID</th>\n",
       "      <th>Item Name</th>\n",
       "      <th>Price</th>\n",
       "    </tr>\n",
       "  </thead>\n",
       "  <tbody>\n",
       "    <tr>\n",
       "      <td>0</td>\n",
       "      <td>0</td>\n",
       "      <td>Lisim78</td>\n",
       "      <td>20</td>\n",
       "      <td>Male</td>\n",
       "      <td>108</td>\n",
       "      <td>Extraction, Quickblade Of Trembling Hands</td>\n",
       "      <td>3.53</td>\n",
       "    </tr>\n",
       "    <tr>\n",
       "      <td>1</td>\n",
       "      <td>1</td>\n",
       "      <td>Lisovynya38</td>\n",
       "      <td>40</td>\n",
       "      <td>Male</td>\n",
       "      <td>143</td>\n",
       "      <td>Frenzied Scimitar</td>\n",
       "      <td>1.56</td>\n",
       "    </tr>\n",
       "    <tr>\n",
       "      <td>2</td>\n",
       "      <td>2</td>\n",
       "      <td>Ithergue48</td>\n",
       "      <td>24</td>\n",
       "      <td>Male</td>\n",
       "      <td>92</td>\n",
       "      <td>Final Critic</td>\n",
       "      <td>4.88</td>\n",
       "    </tr>\n",
       "    <tr>\n",
       "      <td>3</td>\n",
       "      <td>3</td>\n",
       "      <td>Chamassasya86</td>\n",
       "      <td>24</td>\n",
       "      <td>Male</td>\n",
       "      <td>100</td>\n",
       "      <td>Blindscythe</td>\n",
       "      <td>3.27</td>\n",
       "    </tr>\n",
       "    <tr>\n",
       "      <td>4</td>\n",
       "      <td>4</td>\n",
       "      <td>Iskosia90</td>\n",
       "      <td>23</td>\n",
       "      <td>Male</td>\n",
       "      <td>131</td>\n",
       "      <td>Fury</td>\n",
       "      <td>1.44</td>\n",
       "    </tr>\n",
       "  </tbody>\n",
       "</table>\n",
       "</div>"
      ],
      "text/plain": [
       "   Purchase ID             SN  Age Gender  Item ID  \\\n",
       "0            0        Lisim78   20   Male      108   \n",
       "1            1    Lisovynya38   40   Male      143   \n",
       "2            2     Ithergue48   24   Male       92   \n",
       "3            3  Chamassasya86   24   Male      100   \n",
       "4            4      Iskosia90   23   Male      131   \n",
       "\n",
       "                                   Item Name  Price  \n",
       "0  Extraction, Quickblade Of Trembling Hands   3.53  \n",
       "1                          Frenzied Scimitar   1.56  \n",
       "2                               Final Critic   4.88  \n",
       "3                                Blindscythe   3.27  \n",
       "4                                       Fury   1.44  "
      ]
     },
     "execution_count": 53,
     "metadata": {},
     "output_type": "execute_result"
    }
   ],
   "source": [
    "#CSV in pandas\n",
    "df = pd.read_csv(file)\n",
    "df.head()"
   ]
  },
  {
   "cell_type": "code",
   "execution_count": 54,
   "metadata": {},
   "outputs": [
    {
     "data": {
      "text/plain": [
       "Purchase ID    780\n",
       "SN             780\n",
       "Age            780\n",
       "Gender         780\n",
       "Item ID        780\n",
       "Item Name      780\n",
       "Price          780\n",
       "dtype: int64"
      ]
     },
     "execution_count": 54,
     "metadata": {},
     "output_type": "execute_result"
    }
   ],
   "source": [
    "df.count()"
   ]
  },
  {
   "cell_type": "code",
   "execution_count": 55,
   "metadata": {},
   "outputs": [
    {
     "data": {
      "text/plain": [
       "Purchase ID      int64\n",
       "SN              object\n",
       "Age              int64\n",
       "Gender          object\n",
       "Item ID          int64\n",
       "Item Name       object\n",
       "Price          float64\n",
       "dtype: object"
      ]
     },
     "execution_count": 55,
     "metadata": {},
     "output_type": "execute_result"
    }
   ],
   "source": [
    "df.dtypes"
   ]
  },
  {
   "cell_type": "code",
   "execution_count": 106,
   "metadata": {},
   "outputs": [
    {
     "data": {
      "text/html": [
       "<style  type=\"text/css\" >\n",
       "</style><table id=\"T_c0388432_7139_11ea_96f5_38f9d3692d5c\" ><thead>    <tr>        <th class=\"blank level0\" ></th>        <th class=\"col_heading level0 col0\" >Total Players</th>        <th class=\"col_heading level0 col1\" >Number of Unique Items</th>        <th class=\"col_heading level0 col2\" >Average Price</th>        <th class=\"col_heading level0 col3\" >Number of Purchases</th>        <th class=\"col_heading level0 col4\" >Total Revenue</th>    </tr></thead><tbody>\n",
       "                <tr>\n",
       "                        <th id=\"T_c0388432_7139_11ea_96f5_38f9d3692d5clevel0_row0\" class=\"row_heading level0 row0\" >0</th>\n",
       "                        <td id=\"T_c0388432_7139_11ea_96f5_38f9d3692d5crow0_col0\" class=\"data row0 col0\" >576</td>\n",
       "                        <td id=\"T_c0388432_7139_11ea_96f5_38f9d3692d5crow0_col1\" class=\"data row0 col1\" >183</td>\n",
       "                        <td id=\"T_c0388432_7139_11ea_96f5_38f9d3692d5crow0_col2\" class=\"data row0 col2\" >$3.05</td>\n",
       "                        <td id=\"T_c0388432_7139_11ea_96f5_38f9d3692d5crow0_col3\" class=\"data row0 col3\" >780</td>\n",
       "                        <td id=\"T_c0388432_7139_11ea_96f5_38f9d3692d5crow0_col4\" class=\"data row0 col4\" >$2,379.77</td>\n",
       "            </tr>\n",
       "    </tbody></table>"
      ],
      "text/plain": [
       "<pandas.io.formats.style.Styler at 0x11eff0390>"
      ]
     },
     "execution_count": 106,
     "metadata": {},
     "output_type": "execute_result"
    }
   ],
   "source": [
    "#Player Count and Purchasing Analysis (Total)\n",
    "\n",
    "#Player count\n",
    "groupby_sn = df.groupby(\"SN\")\n",
    "count_player = len(groupby_sn)\n",
    "\n",
    "#Unique items\n",
    "groupby_items = df.groupby(\"Item ID\")\n",
    "count_items = len(groupby_items)\n",
    "\n",
    "#Average price\n",
    "avg_price = round(df[\"Price\"].mean(), 2)\n",
    "avg_price\n",
    "\n",
    "#Total # of purchases\n",
    "total_num_purchase = df['Purchase ID'].count()\n",
    "total_num_purchase\n",
    "\n",
    "\n",
    "#Total revenue\n",
    "total_revenue = df['Price'].sum()\n",
    "total_revenue\n",
    "\n",
    "#Summary\n",
    "purchase_summary = pd.DataFrame({\"Total Players\": [count_player],\n",
    "                           \"Number of Unique Items\": [count_items],\n",
    "                           \"Average Price\": [avg_price],\n",
    "                           \"Number of Purchases\": [total_num_purchase],\n",
    "                           \"Total Revenue\": [total_revenue]\n",
    "                           })\n",
    "purchase_summary.style.format({\"Total Revenue\":\"${:,.2f}\",\n",
    "                              \"Average Price\": \"${:,.2f}\"})\n"
   ]
  },
  {
   "cell_type": "code",
   "execution_count": 57,
   "metadata": {},
   "outputs": [
    {
     "data": {
      "text/plain": [
       "Male                     652\n",
       "Female                   113\n",
       "Other / Non-Disclosed     15\n",
       "Name: Gender, dtype: int64"
      ]
     },
     "execution_count": 57,
     "metadata": {},
     "output_type": "execute_result"
    }
   ],
   "source": [
    "#To see all the gender categories\n",
    "df['Gender'].value_counts()"
   ]
  },
  {
   "cell_type": "code",
   "execution_count": 58,
   "metadata": {},
   "outputs": [
    {
     "data": {
      "text/html": [
       "<div>\n",
       "<style scoped>\n",
       "    .dataframe tbody tr th:only-of-type {\n",
       "        vertical-align: middle;\n",
       "    }\n",
       "\n",
       "    .dataframe tbody tr th {\n",
       "        vertical-align: top;\n",
       "    }\n",
       "\n",
       "    .dataframe thead th {\n",
       "        text-align: right;\n",
       "    }\n",
       "</style>\n",
       "<table border=\"1\" class=\"dataframe\">\n",
       "  <thead>\n",
       "    <tr style=\"text-align: right;\">\n",
       "      <th></th>\n",
       "      <th>Total Count</th>\n",
       "      <th>Percentage</th>\n",
       "    </tr>\n",
       "    <tr>\n",
       "      <th>Gender</th>\n",
       "      <th></th>\n",
       "      <th></th>\n",
       "    </tr>\n",
       "  </thead>\n",
       "  <tbody>\n",
       "    <tr>\n",
       "      <td>Female</td>\n",
       "      <td>81</td>\n",
       "      <td>14.06%</td>\n",
       "    </tr>\n",
       "    <tr>\n",
       "      <td>Male</td>\n",
       "      <td>484</td>\n",
       "      <td>84.03%</td>\n",
       "    </tr>\n",
       "    <tr>\n",
       "      <td>Other / Non-Disclosed</td>\n",
       "      <td>11</td>\n",
       "      <td>1.91%</td>\n",
       "    </tr>\n",
       "  </tbody>\n",
       "</table>\n",
       "</div>"
      ],
      "text/plain": [
       "                       Total Count Percentage\n",
       "Gender                                       \n",
       "Female                          81     14.06%\n",
       "Male                           484     84.03%\n",
       "Other / Non-Disclosed           11      1.91%"
      ]
     },
     "execution_count": 58,
     "metadata": {},
     "output_type": "execute_result"
    }
   ],
   "source": [
    "### Gender Demographics\n",
    "\n",
    "#To remove duplicates since the same person could have purchased multiple items\n",
    "\n",
    "groupedby_gender = df.groupby('Gender')\n",
    "gender_counts = groupedby_gender['SN'].nunique()\n",
    "sum_gender_counts = gender_counts.sum()\n",
    "\n",
    "\n",
    "#Count of Male Players\n",
    "male_count = gender_counts['Male']\n",
    "male_percent = (male_count/sum_gender_counts) * 100\n",
    "\n",
    "\n",
    "#Count Females\n",
    "female_count = gender_counts['Female']\n",
    "female_percent = (female_count/sum_gender_counts) * 100\n",
    "\n",
    "\n",
    "#Count Other\n",
    "other_count = gender_counts['Other / Non-Disclosed']\n",
    "other_percent = (other_count/sum_gender_counts) * 100\n",
    "\n",
    "\n",
    "\n",
    "#summary\n",
    "gender_df = pd.DataFrame(gender_counts)\n",
    "gender_df['Percents'] = [female_percent, male_percent, other_percent]\n",
    "gender_df[\"Percents\"] = gender_df[\"Percents\"].map(\"{:.2f}%\".format)\n",
    "gender_df.columns = [\"Total Count\", \"Percentage\"]\n",
    "\n",
    "gender_df\n"
   ]
  },
  {
   "cell_type": "code",
   "execution_count": 117,
   "metadata": {},
   "outputs": [
    {
     "data": {
      "text/html": [
       "<style  type=\"text/css\" >\n",
       "</style><table id=\"T_f978218e_713a_11ea_96f5_38f9d3692d5c\" ><thead>    <tr>        <th class=\"blank level0\" ></th>        <th class=\"col_heading level0 col0\" >Purchase Count</th>        <th class=\"col_heading level0 col1\" >Average Purchase Price</th>        <th class=\"col_heading level0 col2\" >Total Purchase Value</th>    </tr>    <tr>        <th class=\"index_name level0\" >Gender</th>        <th class=\"blank\" ></th>        <th class=\"blank\" ></th>        <th class=\"blank\" ></th>    </tr></thead><tbody>\n",
       "                <tr>\n",
       "                        <th id=\"T_f978218e_713a_11ea_96f5_38f9d3692d5clevel0_row0\" class=\"row_heading level0 row0\" >Female</th>\n",
       "                        <td id=\"T_f978218e_713a_11ea_96f5_38f9d3692d5crow0_col0\" class=\"data row0 col0\" >113</td>\n",
       "                        <td id=\"T_f978218e_713a_11ea_96f5_38f9d3692d5crow0_col1\" class=\"data row0 col1\" >$3.20</td>\n",
       "                        <td id=\"T_f978218e_713a_11ea_96f5_38f9d3692d5crow0_col2\" class=\"data row0 col2\" >$361.94</td>\n",
       "            </tr>\n",
       "            <tr>\n",
       "                        <th id=\"T_f978218e_713a_11ea_96f5_38f9d3692d5clevel0_row1\" class=\"row_heading level0 row1\" >Male</th>\n",
       "                        <td id=\"T_f978218e_713a_11ea_96f5_38f9d3692d5crow1_col0\" class=\"data row1 col0\" >652</td>\n",
       "                        <td id=\"T_f978218e_713a_11ea_96f5_38f9d3692d5crow1_col1\" class=\"data row1 col1\" >$3.02</td>\n",
       "                        <td id=\"T_f978218e_713a_11ea_96f5_38f9d3692d5crow1_col2\" class=\"data row1 col2\" >$1,967.64</td>\n",
       "            </tr>\n",
       "            <tr>\n",
       "                        <th id=\"T_f978218e_713a_11ea_96f5_38f9d3692d5clevel0_row2\" class=\"row_heading level0 row2\" >Other / Non-Disclosed</th>\n",
       "                        <td id=\"T_f978218e_713a_11ea_96f5_38f9d3692d5crow2_col0\" class=\"data row2 col0\" >15</td>\n",
       "                        <td id=\"T_f978218e_713a_11ea_96f5_38f9d3692d5crow2_col1\" class=\"data row2 col1\" >$3.35</td>\n",
       "                        <td id=\"T_f978218e_713a_11ea_96f5_38f9d3692d5crow2_col2\" class=\"data row2 col2\" >$50.19</td>\n",
       "            </tr>\n",
       "    </tbody></table>"
      ],
      "text/plain": [
       "<pandas.io.formats.style.Styler at 0x11f174990>"
      ]
     },
     "execution_count": 117,
     "metadata": {},
     "output_type": "execute_result"
    }
   ],
   "source": [
    "### Purchasing Analysis (Gender)\n",
    "\n",
    "#Purchase count\n",
    "purchase_count = df.groupby('Gender')['Item ID'].count()\n",
    "\n",
    "#Average purchase\n",
    "average_purchase = round(df.groupby('Gender')['Price'].mean(), 2)\n",
    "\n",
    "#Total purchase\n",
    "total_purchase = df.groupby('Gender')['Price'].sum() \n",
    "\n",
    "\n",
    "\n",
    "#Summary\n",
    "summary_purchasing_analysis = pd.DataFrame({\"Purchase Count\": purchase_count,\n",
    "                                           \"Average Purchase Price\": average_purchase,\n",
    "                                            \"Total Purchase Value\": total_purchase                                            \n",
    "                                               })\n",
    "\n",
    "summary_purchasing_analysis.style.format({\"Average Purchase Price\":\"${:,.2f}\",\n",
    "                                          \"Total Purchase Value\":\"${:,.2f}\"\n",
    "                                          })\n",
    "\n"
   ]
  },
  {
   "cell_type": "code",
   "execution_count": 60,
   "metadata": {},
   "outputs": [
    {
     "data": {
      "text/plain": [
       "count    780.000000\n",
       "mean      22.714103\n",
       "std        6.659444\n",
       "min        7.000000\n",
       "25%       20.000000\n",
       "50%       22.000000\n",
       "75%       25.000000\n",
       "max       45.000000\n",
       "Name: Age, dtype: float64"
      ]
     },
     "execution_count": 60,
     "metadata": {},
     "output_type": "execute_result"
    }
   ],
   "source": [
    "### Age Demographics\n",
    "df['Age'].describe()"
   ]
  },
  {
   "cell_type": "code",
   "execution_count": 119,
   "metadata": {},
   "outputs": [
    {
     "data": {
      "text/plain": [
       "20-24    365\n",
       "15-19    136\n",
       "25-29    101\n",
       "30-34     73\n",
       "35-39     41\n",
       "10-14     28\n",
       "<10       23\n",
       "40+       13\n",
       "Name: Age Group, dtype: int64"
      ]
     },
     "execution_count": 119,
     "metadata": {},
     "output_type": "execute_result"
    }
   ],
   "source": [
    "# * The below each broken into bins of 4 years (i.e. &lt;10, 10-14, 15-19, etc.)\n",
    "# bins = [0, 4.9, 8.9, 12.9, 16.9, 20.9, 24.9, 28.9, 32.9, 36.9, 40.9, 44.9, 48.9 ]\n",
    "# group_names = [\"0-4\", \"5-8\", \"9-12\", \"13-16\", \"17-20\", \"21-24\", \"25-28\", \"29-32\", \"33-36\", \"37-40\", \"41-44\", \"45-48\"]\n",
    "\n",
    "bins = [0, 9.90, 14.90, 19.90, 24.90, 29.90, 34.90, 39.90, 1234]\n",
    "group_names = [\"<10\", \"10-14\", \"15-19\", \"20-24\", \"25-29\", \"30-34\", \"35-39\", \"40+\"]\n",
    "df[\"Age Group\"] = pd.cut(df[\"Age\"], bins, labels=group_names)\n",
    "df['Age Group'].value_counts()"
   ]
  },
  {
   "cell_type": "code",
   "execution_count": 120,
   "metadata": {},
   "outputs": [
    {
     "data": {
      "text/html": [
       "<style  type=\"text/css\" >\n",
       "</style><table id=\"T_80807ef2_713f_11ea_96f5_38f9d3692d5c\" ><thead>    <tr>        <th class=\"blank level0\" ></th>        <th class=\"col_heading level0 col0\" >Purchase Count</th>        <th class=\"col_heading level0 col1\" >Average Purchase Price</th>        <th class=\"col_heading level0 col2\" >Total Purchase Value</th>    </tr>    <tr>        <th class=\"index_name level0\" >Age Group</th>        <th class=\"blank\" ></th>        <th class=\"blank\" ></th>        <th class=\"blank\" ></th>    </tr></thead><tbody>\n",
       "                <tr>\n",
       "                        <th id=\"T_80807ef2_713f_11ea_96f5_38f9d3692d5clevel0_row0\" class=\"row_heading level0 row0\" ><10</th>\n",
       "                        <td id=\"T_80807ef2_713f_11ea_96f5_38f9d3692d5crow0_col0\" class=\"data row0 col0\" >17</td>\n",
       "                        <td id=\"T_80807ef2_713f_11ea_96f5_38f9d3692d5crow0_col1\" class=\"data row0 col1\" >$3.35</td>\n",
       "                        <td id=\"T_80807ef2_713f_11ea_96f5_38f9d3692d5crow0_col2\" class=\"data row0 col2\" >$77.13</td>\n",
       "            </tr>\n",
       "            <tr>\n",
       "                        <th id=\"T_80807ef2_713f_11ea_96f5_38f9d3692d5clevel0_row1\" class=\"row_heading level0 row1\" >10-14</th>\n",
       "                        <td id=\"T_80807ef2_713f_11ea_96f5_38f9d3692d5crow1_col0\" class=\"data row1 col0\" >22</td>\n",
       "                        <td id=\"T_80807ef2_713f_11ea_96f5_38f9d3692d5crow1_col1\" class=\"data row1 col1\" >$2.96</td>\n",
       "                        <td id=\"T_80807ef2_713f_11ea_96f5_38f9d3692d5crow1_col2\" class=\"data row1 col2\" >$82.78</td>\n",
       "            </tr>\n",
       "            <tr>\n",
       "                        <th id=\"T_80807ef2_713f_11ea_96f5_38f9d3692d5clevel0_row2\" class=\"row_heading level0 row2\" >15-19</th>\n",
       "                        <td id=\"T_80807ef2_713f_11ea_96f5_38f9d3692d5crow2_col0\" class=\"data row2 col0\" >107</td>\n",
       "                        <td id=\"T_80807ef2_713f_11ea_96f5_38f9d3692d5crow2_col1\" class=\"data row2 col1\" >$3.04</td>\n",
       "                        <td id=\"T_80807ef2_713f_11ea_96f5_38f9d3692d5crow2_col2\" class=\"data row2 col2\" >$412.89</td>\n",
       "            </tr>\n",
       "            <tr>\n",
       "                        <th id=\"T_80807ef2_713f_11ea_96f5_38f9d3692d5clevel0_row3\" class=\"row_heading level0 row3\" >20-24</th>\n",
       "                        <td id=\"T_80807ef2_713f_11ea_96f5_38f9d3692d5crow3_col0\" class=\"data row3 col0\" >258</td>\n",
       "                        <td id=\"T_80807ef2_713f_11ea_96f5_38f9d3692d5crow3_col1\" class=\"data row3 col1\" >$3.05</td>\n",
       "                        <td id=\"T_80807ef2_713f_11ea_96f5_38f9d3692d5crow3_col2\" class=\"data row3 col2\" >$1,114.06</td>\n",
       "            </tr>\n",
       "            <tr>\n",
       "                        <th id=\"T_80807ef2_713f_11ea_96f5_38f9d3692d5clevel0_row4\" class=\"row_heading level0 row4\" >25-29</th>\n",
       "                        <td id=\"T_80807ef2_713f_11ea_96f5_38f9d3692d5crow4_col0\" class=\"data row4 col0\" >77</td>\n",
       "                        <td id=\"T_80807ef2_713f_11ea_96f5_38f9d3692d5crow4_col1\" class=\"data row4 col1\" >$2.90</td>\n",
       "                        <td id=\"T_80807ef2_713f_11ea_96f5_38f9d3692d5crow4_col2\" class=\"data row4 col2\" >$293.00</td>\n",
       "            </tr>\n",
       "            <tr>\n",
       "                        <th id=\"T_80807ef2_713f_11ea_96f5_38f9d3692d5clevel0_row5\" class=\"row_heading level0 row5\" >30-34</th>\n",
       "                        <td id=\"T_80807ef2_713f_11ea_96f5_38f9d3692d5crow5_col0\" class=\"data row5 col0\" >52</td>\n",
       "                        <td id=\"T_80807ef2_713f_11ea_96f5_38f9d3692d5crow5_col1\" class=\"data row5 col1\" >$2.93</td>\n",
       "                        <td id=\"T_80807ef2_713f_11ea_96f5_38f9d3692d5crow5_col2\" class=\"data row5 col2\" >$214.00</td>\n",
       "            </tr>\n",
       "            <tr>\n",
       "                        <th id=\"T_80807ef2_713f_11ea_96f5_38f9d3692d5clevel0_row6\" class=\"row_heading level0 row6\" >35-39</th>\n",
       "                        <td id=\"T_80807ef2_713f_11ea_96f5_38f9d3692d5crow6_col0\" class=\"data row6 col0\" >31</td>\n",
       "                        <td id=\"T_80807ef2_713f_11ea_96f5_38f9d3692d5crow6_col1\" class=\"data row6 col1\" >$3.60</td>\n",
       "                        <td id=\"T_80807ef2_713f_11ea_96f5_38f9d3692d5crow6_col2\" class=\"data row6 col2\" >$147.67</td>\n",
       "            </tr>\n",
       "            <tr>\n",
       "                        <th id=\"T_80807ef2_713f_11ea_96f5_38f9d3692d5clevel0_row7\" class=\"row_heading level0 row7\" >40+</th>\n",
       "                        <td id=\"T_80807ef2_713f_11ea_96f5_38f9d3692d5crow7_col0\" class=\"data row7 col0\" >12</td>\n",
       "                        <td id=\"T_80807ef2_713f_11ea_96f5_38f9d3692d5crow7_col1\" class=\"data row7 col1\" >$2.94</td>\n",
       "                        <td id=\"T_80807ef2_713f_11ea_96f5_38f9d3692d5crow7_col2\" class=\"data row7 col2\" >$38.24</td>\n",
       "            </tr>\n",
       "    </tbody></table>"
      ],
      "text/plain": [
       "<pandas.io.formats.style.Styler at 0x11f19d2d0>"
      ]
     },
     "execution_count": 120,
     "metadata": {},
     "output_type": "execute_result"
    }
   ],
   "source": [
    "#   Average Purchase Price\n",
    "group_by_age = df.groupby(\"Age Group\")\n",
    "\n",
    "#Purchase Count\n",
    "age_purchase_counts = group_by_age['SN'].nunique()   \n",
    "\n",
    "#Average Purchase Price\n",
    "age_average_purchase_price = round(group_by_age['Price'].mean(), 2)\n",
    "\n",
    "#Total Purchase Value\n",
    "age_total_purchase_value = group_by_age['Price'].sum()\n",
    "\n",
    "\n",
    "#Summary\n",
    "summary_age_demographics = pd.DataFrame({\"Purchase Count\": age_purchase_counts,\n",
    "                                           \"Average Purchase Price\": age_average_purchase_price,\n",
    "                                            \"Total Purchase Value\": age_total_purchase_value\n",
    "                                               })\n",
    "summary_age_demographics.style.format({\"Average Purchase Price\":\"${:,.2f}\",\n",
    "                                \"Total Purchase Value\":\"${:,.2f}\"})"
   ]
  },
  {
   "cell_type": "code",
   "execution_count": 110,
   "metadata": {},
   "outputs": [
    {
     "data": {
      "text/html": [
       "<style  type=\"text/css\" >\n",
       "</style><table id=\"T_5b6a64de_713a_11ea_96f5_38f9d3692d5c\" ><thead>    <tr>        <th class=\"blank level0\" ></th>        <th class=\"col_heading level0 col0\" >Purchase Count</th>        <th class=\"col_heading level0 col1\" >Average Purchase Price</th>        <th class=\"col_heading level0 col2\" >Total Purchase Value</th>    </tr>    <tr>        <th class=\"index_name level0\" >SN</th>        <th class=\"blank\" ></th>        <th class=\"blank\" ></th>        <th class=\"blank\" ></th>    </tr></thead><tbody>\n",
       "                <tr>\n",
       "                        <th id=\"T_5b6a64de_713a_11ea_96f5_38f9d3692d5clevel0_row0\" class=\"row_heading level0 row0\" >Lisosia93</th>\n",
       "                        <td id=\"T_5b6a64de_713a_11ea_96f5_38f9d3692d5crow0_col0\" class=\"data row0 col0\" >5</td>\n",
       "                        <td id=\"T_5b6a64de_713a_11ea_96f5_38f9d3692d5crow0_col1\" class=\"data row0 col1\" >$3.79</td>\n",
       "                        <td id=\"T_5b6a64de_713a_11ea_96f5_38f9d3692d5crow0_col2\" class=\"data row0 col2\" >$18.96</td>\n",
       "            </tr>\n",
       "            <tr>\n",
       "                        <th id=\"T_5b6a64de_713a_11ea_96f5_38f9d3692d5clevel0_row1\" class=\"row_heading level0 row1\" >Idastidru52</th>\n",
       "                        <td id=\"T_5b6a64de_713a_11ea_96f5_38f9d3692d5crow1_col0\" class=\"data row1 col0\" >4</td>\n",
       "                        <td id=\"T_5b6a64de_713a_11ea_96f5_38f9d3692d5crow1_col1\" class=\"data row1 col1\" >$3.86</td>\n",
       "                        <td id=\"T_5b6a64de_713a_11ea_96f5_38f9d3692d5crow1_col2\" class=\"data row1 col2\" >$15.45</td>\n",
       "            </tr>\n",
       "            <tr>\n",
       "                        <th id=\"T_5b6a64de_713a_11ea_96f5_38f9d3692d5clevel0_row2\" class=\"row_heading level0 row2\" >Chamjask73</th>\n",
       "                        <td id=\"T_5b6a64de_713a_11ea_96f5_38f9d3692d5crow2_col0\" class=\"data row2 col0\" >3</td>\n",
       "                        <td id=\"T_5b6a64de_713a_11ea_96f5_38f9d3692d5crow2_col1\" class=\"data row2 col1\" >$4.61</td>\n",
       "                        <td id=\"T_5b6a64de_713a_11ea_96f5_38f9d3692d5crow2_col2\" class=\"data row2 col2\" >$13.83</td>\n",
       "            </tr>\n",
       "            <tr>\n",
       "                        <th id=\"T_5b6a64de_713a_11ea_96f5_38f9d3692d5clevel0_row3\" class=\"row_heading level0 row3\" >Iral74</th>\n",
       "                        <td id=\"T_5b6a64de_713a_11ea_96f5_38f9d3692d5crow3_col0\" class=\"data row3 col0\" >4</td>\n",
       "                        <td id=\"T_5b6a64de_713a_11ea_96f5_38f9d3692d5crow3_col1\" class=\"data row3 col1\" >$3.40</td>\n",
       "                        <td id=\"T_5b6a64de_713a_11ea_96f5_38f9d3692d5crow3_col2\" class=\"data row3 col2\" >$13.62</td>\n",
       "            </tr>\n",
       "            <tr>\n",
       "                        <th id=\"T_5b6a64de_713a_11ea_96f5_38f9d3692d5clevel0_row4\" class=\"row_heading level0 row4\" >Iskadarya95</th>\n",
       "                        <td id=\"T_5b6a64de_713a_11ea_96f5_38f9d3692d5crow4_col0\" class=\"data row4 col0\" >3</td>\n",
       "                        <td id=\"T_5b6a64de_713a_11ea_96f5_38f9d3692d5crow4_col1\" class=\"data row4 col1\" >$4.37</td>\n",
       "                        <td id=\"T_5b6a64de_713a_11ea_96f5_38f9d3692d5crow4_col2\" class=\"data row4 col2\" >$13.10</td>\n",
       "            </tr>\n",
       "    </tbody></table>"
      ],
      "text/plain": [
       "<pandas.io.formats.style.Styler at 0x11f20ad90>"
      ]
     },
     "execution_count": 110,
     "metadata": {},
     "output_type": "execute_result"
    }
   ],
   "source": [
    "### Top Spenders\n",
    "\n",
    "# * Identify the the top 5 spenders in the game by total purchase value, then list (in a table):\n",
    "#   * SN\n",
    "\n",
    "\n",
    "top_spenders_total = groupby_sn[\"Price\"].sum()\n",
    "\n",
    "top_spenders_average = groupby_sn[\"Price\"].mean()\n",
    "\n",
    "top_spenders_count = groupby_sn[\"Item ID\"].count()\n",
    "\n",
    "#Summary\n",
    "summary_top_spenders = pd.DataFrame({\"Purchase Count\": top_spenders_count,\n",
    "                                           \"Average Purchase Price\": top_spenders_average,\n",
    "                                            \"Total Purchase Value\": top_spenders_total\n",
    "                                               })\n",
    "\n",
    "summary_top_spenders_ascending = summary_top_spenders.sort_values(\"Total Purchase Value\", ascending=False).head()\n",
    "\n",
    "summary_top_spenders_ascending.style.format({\"Average Purchase Price\":\"${:,.2f}\",\n",
    "                                \"Total Purchase Value\":\"${:,.2f}\"})\n",
    "\n"
   ]
  },
  {
   "cell_type": "code",
   "execution_count": 113,
   "metadata": {},
   "outputs": [
    {
     "data": {
      "text/html": [
       "<style  type=\"text/css\" >\n",
       "</style><table id=\"T_74dcc614_713a_11ea_96f5_38f9d3692d5c\" ><thead>    <tr>        <th class=\"blank\" ></th>        <th class=\"blank level0\" ></th>        <th class=\"col_heading level0 col0\" >Purchase Count</th>        <th class=\"col_heading level0 col1\" >Item Price</th>        <th class=\"col_heading level0 col2\" >Total Purchase Value</th>    </tr>    <tr>        <th class=\"index_name level0\" >Item ID</th>        <th class=\"index_name level1\" >Item Name</th>        <th class=\"blank\" ></th>        <th class=\"blank\" ></th>        <th class=\"blank\" ></th>    </tr></thead><tbody>\n",
       "                <tr>\n",
       "                        <th id=\"T_74dcc614_713a_11ea_96f5_38f9d3692d5clevel0_row0\" class=\"row_heading level0 row0\" >178</th>\n",
       "                        <th id=\"T_74dcc614_713a_11ea_96f5_38f9d3692d5clevel1_row0\" class=\"row_heading level1 row0\" >Oathbreaker, Last Hope of the Breaking Storm</th>\n",
       "                        <td id=\"T_74dcc614_713a_11ea_96f5_38f9d3692d5crow0_col0\" class=\"data row0 col0\" >12</td>\n",
       "                        <td id=\"T_74dcc614_713a_11ea_96f5_38f9d3692d5crow0_col1\" class=\"data row0 col1\" >$4.23</td>\n",
       "                        <td id=\"T_74dcc614_713a_11ea_96f5_38f9d3692d5crow0_col2\" class=\"data row0 col2\" >$50.76</td>\n",
       "            </tr>\n",
       "            <tr>\n",
       "                        <th id=\"T_74dcc614_713a_11ea_96f5_38f9d3692d5clevel0_row1\" class=\"row_heading level0 row1\" >145</th>\n",
       "                        <th id=\"T_74dcc614_713a_11ea_96f5_38f9d3692d5clevel1_row1\" class=\"row_heading level1 row1\" >Fiery Glass Crusader</th>\n",
       "                        <td id=\"T_74dcc614_713a_11ea_96f5_38f9d3692d5crow1_col0\" class=\"data row1 col0\" >9</td>\n",
       "                        <td id=\"T_74dcc614_713a_11ea_96f5_38f9d3692d5crow1_col1\" class=\"data row1 col1\" >$4.58</td>\n",
       "                        <td id=\"T_74dcc614_713a_11ea_96f5_38f9d3692d5crow1_col2\" class=\"data row1 col2\" >$41.22</td>\n",
       "            </tr>\n",
       "            <tr>\n",
       "                        <th id=\"T_74dcc614_713a_11ea_96f5_38f9d3692d5clevel0_row2\" class=\"row_heading level0 row2\" >108</th>\n",
       "                        <th id=\"T_74dcc614_713a_11ea_96f5_38f9d3692d5clevel1_row2\" class=\"row_heading level1 row2\" >Extraction, Quickblade Of Trembling Hands</th>\n",
       "                        <td id=\"T_74dcc614_713a_11ea_96f5_38f9d3692d5crow2_col0\" class=\"data row2 col0\" >9</td>\n",
       "                        <td id=\"T_74dcc614_713a_11ea_96f5_38f9d3692d5crow2_col1\" class=\"data row2 col1\" >$3.53</td>\n",
       "                        <td id=\"T_74dcc614_713a_11ea_96f5_38f9d3692d5crow2_col2\" class=\"data row2 col2\" >$31.77</td>\n",
       "            </tr>\n",
       "            <tr>\n",
       "                        <th id=\"T_74dcc614_713a_11ea_96f5_38f9d3692d5clevel0_row3\" class=\"row_heading level0 row3\" >82</th>\n",
       "                        <th id=\"T_74dcc614_713a_11ea_96f5_38f9d3692d5clevel1_row3\" class=\"row_heading level1 row3\" >Nirvana</th>\n",
       "                        <td id=\"T_74dcc614_713a_11ea_96f5_38f9d3692d5crow3_col0\" class=\"data row3 col0\" >9</td>\n",
       "                        <td id=\"T_74dcc614_713a_11ea_96f5_38f9d3692d5crow3_col1\" class=\"data row3 col1\" >$4.90</td>\n",
       "                        <td id=\"T_74dcc614_713a_11ea_96f5_38f9d3692d5crow3_col2\" class=\"data row3 col2\" >$44.10</td>\n",
       "            </tr>\n",
       "            <tr>\n",
       "                        <th id=\"T_74dcc614_713a_11ea_96f5_38f9d3692d5clevel0_row4\" class=\"row_heading level0 row4\" >19</th>\n",
       "                        <th id=\"T_74dcc614_713a_11ea_96f5_38f9d3692d5clevel1_row4\" class=\"row_heading level1 row4\" >Pursuit, Cudgel of Necromancy</th>\n",
       "                        <td id=\"T_74dcc614_713a_11ea_96f5_38f9d3692d5crow4_col0\" class=\"data row4 col0\" >8</td>\n",
       "                        <td id=\"T_74dcc614_713a_11ea_96f5_38f9d3692d5crow4_col1\" class=\"data row4 col1\" >$1.02</td>\n",
       "                        <td id=\"T_74dcc614_713a_11ea_96f5_38f9d3692d5crow4_col2\" class=\"data row4 col2\" >$8.16</td>\n",
       "            </tr>\n",
       "    </tbody></table>"
      ],
      "text/plain": [
       "<pandas.io.formats.style.Styler at 0x11f205c50>"
      ]
     },
     "execution_count": 113,
     "metadata": {},
     "output_type": "execute_result"
    }
   ],
   "source": [
    "### Most Popular Items\n",
    "\n",
    "\n",
    "popular_items = df[[\"Item ID\", \"Item Name\", \"Price\"]]\n",
    "\n",
    "#Groupby name and ID\n",
    "popular_items_df = popular_items.groupby([\"Item ID\",\"Item Name\"])\n",
    "\n",
    "#Popular item count\n",
    "popular_items_count = popular_items_df[\"Price\"].count()\n",
    "\n",
    "#Popular item total\n",
    "popular_items_total = popular_items_df[\"Price\"].sum()\n",
    "\n",
    "#Popular item cost\n",
    "popular_items_price = popular_items_total/popular_items_count\n",
    "\n",
    "\n",
    "#Summary\n",
    "popular_items_summary = pd.DataFrame({\"Purchase Count\": popular_items_count, \n",
    "                                   \"Item Price\": popular_items_price,\n",
    "                                   \"Total Purchase Value\":popular_items_total})\n",
    "\n",
    "popular_items_ascending = popular_items_summary.sort_values([\"Purchase Count\"], ascending=False).head()\n",
    "\n",
    "\n",
    "popular_items_ascending.style.format({\"Item Price\":\"${:,.2f}\",\n",
    "                                \"Total Purchase Value\":\"${:,.2f}\"})\n"
   ]
  },
  {
   "cell_type": "code",
   "execution_count": 114,
   "metadata": {},
   "outputs": [
    {
     "data": {
      "text/html": [
       "<style  type=\"text/css\" >\n",
       "</style><table id=\"T_7bb201a2_713a_11ea_96f5_38f9d3692d5c\" ><thead>    <tr>        <th class=\"blank\" ></th>        <th class=\"blank level0\" ></th>        <th class=\"col_heading level0 col0\" >Purchase Count</th>        <th class=\"col_heading level0 col1\" >Item Price</th>        <th class=\"col_heading level0 col2\" >Total Purchase Value</th>    </tr>    <tr>        <th class=\"index_name level0\" >Item ID</th>        <th class=\"index_name level1\" >Item Name</th>        <th class=\"blank\" ></th>        <th class=\"blank\" ></th>        <th class=\"blank\" ></th>    </tr></thead><tbody>\n",
       "                <tr>\n",
       "                        <th id=\"T_7bb201a2_713a_11ea_96f5_38f9d3692d5clevel0_row0\" class=\"row_heading level0 row0\" >178</th>\n",
       "                        <th id=\"T_7bb201a2_713a_11ea_96f5_38f9d3692d5clevel1_row0\" class=\"row_heading level1 row0\" >Oathbreaker, Last Hope of the Breaking Storm</th>\n",
       "                        <td id=\"T_7bb201a2_713a_11ea_96f5_38f9d3692d5crow0_col0\" class=\"data row0 col0\" >12</td>\n",
       "                        <td id=\"T_7bb201a2_713a_11ea_96f5_38f9d3692d5crow0_col1\" class=\"data row0 col1\" >$4.23</td>\n",
       "                        <td id=\"T_7bb201a2_713a_11ea_96f5_38f9d3692d5crow0_col2\" class=\"data row0 col2\" >$50.76</td>\n",
       "            </tr>\n",
       "            <tr>\n",
       "                        <th id=\"T_7bb201a2_713a_11ea_96f5_38f9d3692d5clevel0_row1\" class=\"row_heading level0 row1\" >82</th>\n",
       "                        <th id=\"T_7bb201a2_713a_11ea_96f5_38f9d3692d5clevel1_row1\" class=\"row_heading level1 row1\" >Nirvana</th>\n",
       "                        <td id=\"T_7bb201a2_713a_11ea_96f5_38f9d3692d5crow1_col0\" class=\"data row1 col0\" >9</td>\n",
       "                        <td id=\"T_7bb201a2_713a_11ea_96f5_38f9d3692d5crow1_col1\" class=\"data row1 col1\" >$4.90</td>\n",
       "                        <td id=\"T_7bb201a2_713a_11ea_96f5_38f9d3692d5crow1_col2\" class=\"data row1 col2\" >$44.10</td>\n",
       "            </tr>\n",
       "            <tr>\n",
       "                        <th id=\"T_7bb201a2_713a_11ea_96f5_38f9d3692d5clevel0_row2\" class=\"row_heading level0 row2\" >145</th>\n",
       "                        <th id=\"T_7bb201a2_713a_11ea_96f5_38f9d3692d5clevel1_row2\" class=\"row_heading level1 row2\" >Fiery Glass Crusader</th>\n",
       "                        <td id=\"T_7bb201a2_713a_11ea_96f5_38f9d3692d5crow2_col0\" class=\"data row2 col0\" >9</td>\n",
       "                        <td id=\"T_7bb201a2_713a_11ea_96f5_38f9d3692d5crow2_col1\" class=\"data row2 col1\" >$4.58</td>\n",
       "                        <td id=\"T_7bb201a2_713a_11ea_96f5_38f9d3692d5crow2_col2\" class=\"data row2 col2\" >$41.22</td>\n",
       "            </tr>\n",
       "            <tr>\n",
       "                        <th id=\"T_7bb201a2_713a_11ea_96f5_38f9d3692d5clevel0_row3\" class=\"row_heading level0 row3\" >92</th>\n",
       "                        <th id=\"T_7bb201a2_713a_11ea_96f5_38f9d3692d5clevel1_row3\" class=\"row_heading level1 row3\" >Final Critic</th>\n",
       "                        <td id=\"T_7bb201a2_713a_11ea_96f5_38f9d3692d5crow3_col0\" class=\"data row3 col0\" >8</td>\n",
       "                        <td id=\"T_7bb201a2_713a_11ea_96f5_38f9d3692d5crow3_col1\" class=\"data row3 col1\" >$4.88</td>\n",
       "                        <td id=\"T_7bb201a2_713a_11ea_96f5_38f9d3692d5crow3_col2\" class=\"data row3 col2\" >$39.04</td>\n",
       "            </tr>\n",
       "            <tr>\n",
       "                        <th id=\"T_7bb201a2_713a_11ea_96f5_38f9d3692d5clevel0_row4\" class=\"row_heading level0 row4\" >103</th>\n",
       "                        <th id=\"T_7bb201a2_713a_11ea_96f5_38f9d3692d5clevel1_row4\" class=\"row_heading level1 row4\" >Singed Scalpel</th>\n",
       "                        <td id=\"T_7bb201a2_713a_11ea_96f5_38f9d3692d5crow4_col0\" class=\"data row4 col0\" >8</td>\n",
       "                        <td id=\"T_7bb201a2_713a_11ea_96f5_38f9d3692d5crow4_col1\" class=\"data row4 col1\" >$4.35</td>\n",
       "                        <td id=\"T_7bb201a2_713a_11ea_96f5_38f9d3692d5crow4_col2\" class=\"data row4 col2\" >$34.80</td>\n",
       "            </tr>\n",
       "    </tbody></table>"
      ],
      "text/plain": [
       "<pandas.io.formats.style.Styler at 0x11f229490>"
      ]
     },
     "execution_count": 114,
     "metadata": {},
     "output_type": "execute_result"
    }
   ],
   "source": [
    "### Most Profitable Items\n",
    "\n",
    "#Sorting the table\n",
    "\n",
    "profitable_items_ascending = popular_items_summary.sort_values([\"Total Purchase Value\"], ascending=False).head()\n",
    "profitable_items_ascending.style.format({\"Item Price\":\"${:,.2f}\",\n",
    "                                \"Total Purchase Value\":\"${:,.2f}\"})\n",
    "\n"
   ]
  }
 ],
 "metadata": {
  "kernelspec": {
   "display_name": "Python 3",
   "language": "python",
   "name": "python3"
  },
  "language_info": {
   "codemirror_mode": {
    "name": "ipython",
    "version": 3
   },
   "file_extension": ".py",
   "mimetype": "text/x-python",
   "name": "python",
   "nbconvert_exporter": "python",
   "pygments_lexer": "ipython3",
   "version": "3.7.4"
  }
 },
 "nbformat": 4,
 "nbformat_minor": 4
}
